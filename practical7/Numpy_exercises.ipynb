{
 "cells": [
  {
   "cell_type": "markdown",
   "metadata": {},
   "source": [
    "# Numpy exercises\n"
   ]
  },
  {
   "cell_type": "markdown",
   "metadata": {},
   "source": [
    "#### 1. Import the numpy package under the name `np`\n",
    "\n",
    "#### Import արեք numpy module-ը np անունով:"
   ]
  },
  {
   "cell_type": "code",
   "execution_count": 2,
   "metadata": {},
   "outputs": [],
   "source": [
    "import numpy as np"
   ]
  },
  {
   "cell_type": "markdown",
   "metadata": {},
   "source": [
    "#### 2. Create a numpy array of size 10 filled with zeros. \n",
    "\n",
    "#### Ստեղծեք 10 չափի 0-ներով լցված numpy array:"
   ]
  },
  {
   "cell_type": "code",
   "execution_count": 15,
   "metadata": {},
   "outputs": [
    {
     "data": {
      "text/plain": [
       "array([0, 0, 0, 0, 0, 0, 0, 0, 0, 0])"
      ]
     },
     "execution_count": 15,
     "metadata": {},
     "output_type": "execute_result"
    }
   ],
   "source": [
    "arr=np.zeros(10,dtype=np.int)\n",
    "arr"
   ]
  },
  {
   "cell_type": "markdown",
   "metadata": {},
   "source": [
    "#### 3.  How to get the documentation of the numpy add function? \n",
    "\n",
    "#### Նայեք numpy-ի add ֆունկցիայի դոկումենտացիան:"
   ]
  },
  {
   "cell_type": "code",
   "execution_count": 13,
   "metadata": {},
   "outputs": [],
   "source": [
    "?np.add"
   ]
  },
  {
   "cell_type": "markdown",
   "metadata": {},
   "source": [
    "#### 4.  Create a numpy array of size 10 filled with zeros but the fifth value is 1 \n",
    "\n",
    "#### Ստեղծեք 10 չափի 0-ներով լցված numpy array, որի 5րդ արժեքը 1 է:"
   ]
  },
  {
   "cell_type": "code",
   "execution_count": 16,
   "metadata": {},
   "outputs": [
    {
     "data": {
      "text/plain": [
       "array([0, 0, 0, 0, 0, 1, 0, 0, 0, 0])"
      ]
     },
     "execution_count": 16,
     "metadata": {},
     "output_type": "execute_result"
    }
   ],
   "source": [
    "arr[5]=1\n",
    "arr"
   ]
  },
  {
   "cell_type": "markdown",
   "metadata": {},
   "source": [
    "#### 5.  Create a vector with values ranging from 10 to 49\n",
    "\n",
    "#### Ստեղծեք 10-ից 49 հաջորդական թվերով numpy array:"
   ]
  },
  {
   "cell_type": "code",
   "execution_count": 20,
   "metadata": {},
   "outputs": [
    {
     "data": {
      "text/plain": [
       "array([10, 11, 12, 13, 14, 15, 16, 17, 18, 19, 20, 21, 22, 23, 24, 25, 26,\n",
       "       27, 28, 29, 30, 31, 32, 33, 34, 35, 36, 37, 38, 39, 40, 41, 42, 43,\n",
       "       44, 45, 46, 47, 48, 49])"
      ]
     },
     "execution_count": 20,
     "metadata": {},
     "output_type": "execute_result"
    }
   ],
   "source": [
    "a1=np.arange(10,50)\n",
    "a1"
   ]
  },
  {
   "cell_type": "markdown",
   "metadata": {},
   "source": [
    "#### 6.  Reverse the numpy array ranging from 0 to 50. \n",
    "\n",
    "#### Ստեղծեք 0-ից 50 հաջորդական թվերով numpy array և տպեք այն շրջած ձևով:"
   ]
  },
  {
   "cell_type": "code",
   "execution_count": 25,
   "metadata": {},
   "outputs": [
    {
     "data": {
      "text/plain": [
       "array([50, 49, 48, 47, 46, 45, 44, 43, 42, 41, 40, 39, 38, 37, 36, 35, 34,\n",
       "       33, 32, 31, 30, 29, 28, 27, 26, 25, 24, 23, 22, 21, 20, 19, 18, 17,\n",
       "       16, 15, 14, 13, 12, 11, 10,  9,  8,  7,  6,  5,  4,  3,  2,  1])"
      ]
     },
     "execution_count": 25,
     "metadata": {},
     "output_type": "execute_result"
    }
   ],
   "source": [
    "a2=np.arange(0,51)\n",
    "s=slice(51,0,-1)\n",
    "a2[s]"
   ]
  },
  {
   "cell_type": "markdown",
   "metadata": {},
   "source": [
    "#### 7.  Create a 3x3 matrix with values ranging from 0 to 8 \n",
    "\n",
    "#### Ստեղծեք 0-ից 8 հաջորդական թվերով 3x3 numpy array"
   ]
  },
  {
   "cell_type": "code",
   "execution_count": 28,
   "metadata": {},
   "outputs": [
    {
     "data": {
      "text/plain": [
       "array([[0, 1, 2],\n",
       "       [3, 4, 5],\n",
       "       [6, 7, 8]])"
      ]
     },
     "execution_count": 28,
     "metadata": {},
     "output_type": "execute_result"
    }
   ],
   "source": [
    "a3=np.arange(0,9)\n",
    "a3.reshape(3,3)"
   ]
  },
  {
   "cell_type": "markdown",
   "metadata": {},
   "source": [
    "#### 8. Find indices of non-zero elements from \\[1,2,0,0,4,0\\]\n",
    "\n",
    "#### Տրված է \\[1,2,0,0,4,0\\] numpy array-ը, գտեք ոչ-զրոյական արժեքներով տարրերի կոորդինատները:"
   ]
  },
  {
   "cell_type": "code",
   "execution_count": 63,
   "metadata": {},
   "outputs": [
    {
     "name": "stdout",
     "output_type": "stream",
     "text": [
      "0\n",
      "1\n",
      "4\n"
     ]
    }
   ],
   "source": [
    "a4=np.array([1,2,0,0,4,0])\n",
    "for i in range(len(a4)):\n",
    "    if a4[i]!=0:\n",
    "        print(i)"
   ]
  },
  {
   "cell_type": "markdown",
   "metadata": {},
   "source": [
    "#### 9. Create a 3x3x3 array with random integers from 1 to 20\n",
    "\n",
    "#### Ստեղծեք 1-ից 20 պատահական թվերով լցված (3x3x3) չափանի numpy array:"
   ]
  },
  {
   "cell_type": "code",
   "execution_count": 36,
   "metadata": {},
   "outputs": [
    {
     "data": {
      "text/plain": [
       "array([[[ 6,  1,  4],\n",
       "        [ 3, 14,  4],\n",
       "        [12,  9, 12]],\n",
       "\n",
       "       [[ 9,  6, 15],\n",
       "        [ 9,  5,  6],\n",
       "        [ 7, 16,  6]],\n",
       "\n",
       "       [[ 1, 14, 12],\n",
       "        [19, 14, 14],\n",
       "        [19, 17, 13]]])"
      ]
     },
     "execution_count": 36,
     "metadata": {},
     "output_type": "execute_result"
    }
   ],
   "source": [
    "a5=np.random.randint(1,20,3*3*3).reshape(3,3,3)\n",
    "a5"
   ]
  },
  {
   "cell_type": "markdown",
   "metadata": {},
   "source": [
    "#### 10. Create a 10x10 array with random values and find the minimum and maximum values \n",
    "\n",
    "#### Ստեղծեք պատահական թվերով լցված (10x10) չափանի numpy array ու տպեք դրա փոքրագույն ու մեծագույն արժեքները:"
   ]
  },
  {
   "cell_type": "code",
   "execution_count": 53,
   "metadata": {},
   "outputs": [
    {
     "name": "stdout",
     "output_type": "stream",
     "text": [
      "Minimal value:  0.02786953458583663\n",
      "Maximal value:  0.9799183997456584\n"
     ]
    }
   ],
   "source": [
    "a6=np.random.rand(10,10)\n",
    "#print(a6)\n",
    "print(\"Minimal value: \",a6.min())\n",
    "print(\"Maximal value: \",a6.max())"
   ]
  },
  {
   "cell_type": "markdown",
   "metadata": {},
   "source": [
    "#### 11. Create a random vector of size 30 and find the mean value \n",
    "\n",
    "#### Ստեղծեք 30 չափանի պատահական թվերով լցված numpy array ու տպեք դրա միջին արժեքը:"
   ]
  },
  {
   "cell_type": "code",
   "execution_count": 57,
   "metadata": {},
   "outputs": [
    {
     "name": "stdout",
     "output_type": "stream",
     "text": [
      "0.5774041557313784\n"
     ]
    }
   ],
   "source": [
    "a7=np.random.rand(30)\n",
    "#print(a7)\n",
    "print(a7.mean())"
   ]
  },
  {
   "cell_type": "markdown",
   "metadata": {},
   "source": [
    "#### 12. Given a 1D array ranging from 0 to 10, print all the elements which are between 3 and 8. \n",
    "\n",
    "#### Ստեղծեք 0-ից 10 հաջորդական թվերով numpy array: Տպեք բոլոր արժեքները, որոնք 3-ից 8 միջակայքում են:"
   ]
  },
  {
   "cell_type": "code",
   "execution_count": 78,
   "metadata": {},
   "outputs": [
    {
     "data": {
      "text/plain": [
       "array([4, 5, 6, 7])"
      ]
     },
     "execution_count": 78,
     "metadata": {},
     "output_type": "execute_result"
    }
   ],
   "source": [
    "a8=np.arange(0,11)\n",
    "a8[(a8>3) & (a8<8)]"
   ]
  },
  {
   "cell_type": "markdown",
   "metadata": {},
   "source": [
    "#### 13. Given a 1D array of 20 random integers from 0 to 10, multiply the values that are less than 5 by 2 and print the resulting array.\n",
    "\n",
    "#### Ստեղծեք 1-ից 10 պատահական ամբողջ թվերով լցված 20 չափանի numpy array: Բազմապատկեք 5-ից փոքր արժեք ունեցող տարերրը 2-ով ու տպեք արդյունքում ստացված array-ը:"
   ]
  },
  {
   "cell_type": "code",
   "execution_count": 91,
   "metadata": {},
   "outputs": [
    {
     "name": "stdout",
     "output_type": "stream",
     "text": [
      "[6 6 9 5 1 3 2 3 8 2 7 4 8 4 8 6 5 5 6 3]\n",
      "[2 6 4 6 4 8 8 6]\n"
     ]
    }
   ],
   "source": [
    "a9=np.random.randint(1,10,20)\n",
    "print(a9)\n",
    "print(a9[a9<5]*2)"
   ]
  },
  {
   "cell_type": "markdown",
   "metadata": {},
   "source": [
    "#### 14. Given the 1D array [1, 5, 6, 2, -2, 23, 45], find the indices of the array elements that are divisible by 2.\n",
    "\n",
    "#### Տրված է [1, 5, 6, 2, -2, 23, 45] numpy array-ը, գտեք 2-ի բաժանվող տարրերի կոորդինատները:"
   ]
  },
  {
   "cell_type": "code",
   "execution_count": 94,
   "metadata": {},
   "outputs": [
    {
     "data": {
      "text/plain": [
       "array([ 6,  2, -2])"
      ]
     },
     "execution_count": 94,
     "metadata": {},
     "output_type": "execute_result"
    }
   ],
   "source": [
    "a10=np.array([1, 5, 6, 2, -2, 23, 45])\n",
    "a10[a10%2==0]"
   ]
  },
  {
   "cell_type": "markdown",
   "metadata": {},
   "source": [
    "#### 15. Given a 1D array ranging from 0 to 20, print all the elements which are divisible by 3. \n",
    "\n",
    "#### Ստեղծեք 1-ից 20 հաջորդական թվերով լցված numpy array, տպեք բոլոր 3-ի բաժանվող տարրերի արժեքները:"
   ]
  },
  {
   "cell_type": "code",
   "execution_count": 101,
   "metadata": {},
   "outputs": [
    {
     "data": {
      "text/plain": [
       "array([ 3,  6,  9, 12, 15, 18])"
      ]
     },
     "execution_count": 101,
     "metadata": {},
     "output_type": "execute_result"
    }
   ],
   "source": [
    "a11=np.arange(1,21)\n",
    "a11[a11%3==0]"
   ]
  },
  {
   "cell_type": "markdown",
   "metadata": {},
   "source": [
    "#### 16. Create a 5x5 matrix with each row values ranging from 0 to 4 \n",
    "\n",
    "#### Ստեղծեք 5x5 numpy array, որի ամեն տող իրենից ներկայացնում է 0-ից 4 հաջորդական թվեր:"
   ]
  },
  {
   "cell_type": "code",
   "execution_count": 110,
   "metadata": {},
   "outputs": [
    {
     "data": {
      "text/plain": [
       "array([[0, 1, 2, 3, 4],\n",
       "       [0, 1, 2, 3, 4],\n",
       "       [0, 1, 2, 3, 4],\n",
       "       [0, 1, 2, 3, 4],\n",
       "       [0, 1, 2, 3, 4]])"
      ]
     },
     "execution_count": 110,
     "metadata": {},
     "output_type": "execute_result"
    }
   ],
   "source": [
    "a12=np.arange(0,5)\n",
    "a13=np.tile(a12,5)\n",
    "a13.reshape(5,5)"
   ]
  },
  {
   "cell_type": "markdown",
   "metadata": {},
   "source": [
    "#### 17. Գեներացրեք 1-ից 10 պատահական թվեր ու ստեղծեք (3, 5) չափերով numpy array-ը"
   ]
  },
  {
   "cell_type": "code",
   "execution_count": 113,
   "metadata": {},
   "outputs": [
    {
     "data": {
      "text/plain": [
       "array([[8, 3, 1, 1, 8],\n",
       "       [9, 4, 8, 6, 5],\n",
       "       [1, 2, 5, 9, 2]])"
      ]
     },
     "execution_count": 113,
     "metadata": {},
     "output_type": "execute_result"
    }
   ],
   "source": [
    "a14=np.random.randint(1,10,3*5).reshape(3,5)\n",
    "a14"
   ]
  },
  {
   "cell_type": "markdown",
   "metadata": {},
   "source": [
    "#### 18. Ստեղծեք 10 չափի 0-ներով լցված numpy array ու փոխարինեք դրա 5-րդ արժեքը 3 թվով։"
   ]
  },
  {
   "cell_type": "code",
   "execution_count": 116,
   "metadata": {},
   "outputs": [
    {
     "data": {
      "text/plain": [
       "array([0, 0, 0, 0, 0, 3, 0, 0, 0, 0])"
      ]
     },
     "execution_count": 116,
     "metadata": {},
     "output_type": "execute_result"
    }
   ],
   "source": [
    "a15=np.zeros(10,dtype=int)\n",
    "a15[5]=3\n",
    "a15"
   ]
  },
  {
   "cell_type": "markdown",
   "metadata": {},
   "source": [
    "#### 19. Ստեղծեք 3-ից 15 թվերից բաղկացած numpy array ([3, 4 … 13, 14])"
   ]
  },
  {
   "cell_type": "code",
   "execution_count": 118,
   "metadata": {},
   "outputs": [
    {
     "data": {
      "text/plain": [
       "array([ 3,  4,  5,  6,  7,  8,  9, 10, 11, 12, 13, 14])"
      ]
     },
     "execution_count": 118,
     "metadata": {},
     "output_type": "execute_result"
    }
   ],
   "source": [
    "a16=np.arange(3,15)\n",
    "a16"
   ]
  },
  {
   "cell_type": "markdown",
   "metadata": {},
   "source": [
    "#### 20. Գրեք ֆունկցիա, որը ստանում է numpy array ու բաժանում է դրա բոլոր արժեքները 2-ի այնքան ժամանակ մինչև որ դրանց միջին արժեքը լինի <=5։ Այնուհետև, հենց միջին արժեքը դառնում է <=5, ֆունկցիան վերադարձնում է փոփոխված numpy array-ը։"
   ]
  },
  {
   "cell_type": "code",
   "execution_count": 148,
   "metadata": {},
   "outputs": [
    {
     "name": "stdout",
     "output_type": "stream",
     "text": [
      "[0.25 0.5  0.75 1.   1.25 1.5  1.75 2.   2.25 2.5  2.75 3.   3.25 3.5\n",
      " 3.75 4.   4.25 4.5  4.75 5.   5.25 5.5  5.75 6.   6.25 6.5  6.75 7.\n",
      " 7.25]\n"
     ]
    }
   ],
   "source": [
    "def func(arr):\n",
    "    if arr.mean()<=5:\n",
    "        return arr\n",
    "    return func(arr/2)    \n",
    "    \n",
    "a17=np.arange(1,30)\n",
    "print(func(a17))\n",
    "    "
   ]
  },
  {
   "cell_type": "markdown",
   "metadata": {},
   "source": [
    "#### 21. Գրեք ֆունկցիա, որը ստանում է 1-ից 10 պատահական թվերով լցված 5x4 numpy array ու վերադարձնում է 4 տարբեր numpy array-ներ, որոնք սկզբնական numpy array-ի սյուներն են։ Գրեք նմանատիպ ֆունկցիա, որը վերադարձնում է 5 տարբեր numpy array-ներ, որոնք սկզբնական numpy array-ի տողերն են։"
   ]
  },
  {
   "cell_type": "code",
   "execution_count": 157,
   "metadata": {},
   "outputs": [
    {
     "name": "stdout",
     "output_type": "stream",
     "text": [
      "[[6 8 8 2]\n",
      " [9 8 2 3]\n",
      " [6 3 8 9]\n",
      " [6 2 8 5]\n",
      " [4 5 3 9]]\n",
      "(array([6, 8, 8, 2]), array([9, 8, 2, 3]), array([6, 3, 8, 9]), array([6, 2, 8, 5]), array([4, 5, 3, 9]))\n",
      "(array([6, 9, 6, 6, 4]), array([8, 8, 3, 2, 5]), array([8, 2, 8, 8, 3]), array([2, 3, 9, 5, 9]))\n"
     ]
    }
   ],
   "source": [
    "a18=np.random.randint(1,10,20).reshape(5,4)\n",
    "\n",
    "print(a18)\n",
    "\n",
    "def raws(arr):\n",
    "    return arr[0,...],arr[1,...],arr[2,...],arr[3,...],arr[4,...]\n",
    "\n",
    "def columns(arr):\n",
    "    return arr[...,0],arr[...,1],arr[...,2],arr[...,3]\n",
    "\n",
    "print(raws(a18))\n",
    "\n",
    "print(columns(a18))\n",
    "    \n",
    "\n"
   ]
  }
 ],
 "metadata": {
  "kernelspec": {
   "display_name": "Python 3",
   "language": "python",
   "name": "python3"
  },
  "language_info": {
   "codemirror_mode": {
    "name": "ipython",
    "version": 3
   },
   "file_extension": ".py",
   "mimetype": "text/x-python",
   "name": "python",
   "nbconvert_exporter": "python",
   "pygments_lexer": "ipython3",
   "version": "3.7.3"
  }
 },
 "nbformat": 4,
 "nbformat_minor": 1
}
