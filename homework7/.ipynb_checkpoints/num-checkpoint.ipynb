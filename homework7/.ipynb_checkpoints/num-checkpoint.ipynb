{
 "cells": [
  {
   "cell_type": "code",
   "execution_count": 1,
   "metadata": {},
   "outputs": [],
   "source": [
    "import numpy as np"
   ]
  },
  {
   "cell_type": "code",
   "execution_count": 2,
   "metadata": {},
   "outputs": [
    {
     "data": {
      "text/plain": [
       "array([[3, 8, 8],\n",
       "       [9, 9, 6],\n",
       "       [7, 8, 5],\n",
       "       [2, 2, 6],\n",
       "       [1, 3, 1]])"
      ]
     },
     "execution_count": 2,
     "metadata": {},
     "output_type": "execute_result"
    }
   ],
   "source": [
    "a=np.random.randint(1,10,(5,3))\n",
    "a"
   ]
  },
  {
   "cell_type": "code",
   "execution_count": 4,
   "metadata": {},
   "outputs": [
    {
     "data": {
      "text/plain": [
       "array([0., 0., 0., 0., 0., 3., 0., 0., 0., 0.])"
      ]
     },
     "execution_count": 4,
     "metadata": {},
     "output_type": "execute_result"
    }
   ],
   "source": [
    "b=np.zeros(10)\n",
    "b[5]=3\n",
    "b"
   ]
  },
  {
   "cell_type": "code",
   "execution_count": 5,
   "metadata": {},
   "outputs": [
    {
     "data": {
      "text/plain": [
       "array([ 3,  4,  5,  6,  7,  8,  9, 10, 11, 12, 13, 14])"
      ]
     },
     "execution_count": 5,
     "metadata": {},
     "output_type": "execute_result"
    }
   ],
   "source": [
    "c=np.arange(3,15)\n",
    "c"
   ]
  },
  {
   "cell_type": "code",
   "execution_count": 14,
   "metadata": {},
   "outputs": [
    {
     "name": "stdout",
     "output_type": "stream",
     "text": [
      "[[1 3]\n",
      " [5 2]\n",
      " [4 5]]\n",
      "\n",
      "[[1 3 5]\n",
      " [2 4 5]]\n"
     ]
    }
   ],
   "source": [
    "d=np.array([1,3,5,2,4,5])\n",
    "print(d.reshape(3,2))\n",
    "print()\n",
    "print(d.reshape(2,3))"
   ]
  },
  {
   "cell_type": "code",
   "execution_count": 54,
   "metadata": {},
   "outputs": [
    {
     "name": "stdout",
     "output_type": "stream",
     "text": [
      "[ 1  2  3  4  5  6  7  8  9 10 11 12 13 14 15 16 17 18 19]\n"
     ]
    },
    {
     "data": {
      "text/plain": [
       "array([0.5, 1. , 1.5, 2. , 2.5, 3. , 3.5, 4. , 4.5, 5. , 5.5, 6. , 6.5,\n",
       "       7. , 7.5, 8. , 8.5, 9. , 9.5])"
      ]
     },
     "execution_count": 54,
     "metadata": {},
     "output_type": "execute_result"
    }
   ],
   "source": [
    "def func1(nparr):\n",
    "    if nparr.mean()<=5:\n",
    "        return nparr\n",
    "    else:\n",
    "        return func1(nparr/2)\n",
    "        \n",
    "\n",
    "\n",
    "x=np.arange(1,20)\n",
    "print(x)\n",
    "func1(x)"
   ]
  },
  {
   "cell_type": "code",
   "execution_count": 46,
   "metadata": {},
   "outputs": [
    {
     "data": {
      "text/plain": [
       "4.9"
      ]
     },
     "execution_count": 46,
     "metadata": {},
     "output_type": "execute_result"
    }
   ],
   "source": [
    "x=np.random.randint(1,10,10)\n",
    "x.mean()"
   ]
  },
  {
   "cell_type": "code",
   "execution_count": 34,
   "metadata": {},
   "outputs": [
    {
     "name": "stdout",
     "output_type": "stream",
     "text": [
      "[[1 9 8 4]\n",
      " [8 3 1 6]\n",
      " [8 2 3 2]\n",
      " [7 8 1 6]\n",
      " [6 6 5 8]]\n",
      "\n",
      "[array([1, 8, 8, 7, 6]), array([9, 3, 2, 8, 6]), array([8, 1, 3, 1, 5]), array([4, 6, 2, 6, 8])]\n"
     ]
    }
   ],
   "source": [
    "def func2(nparr):\n",
    "    l=[]\n",
    "    for i in range(4):\n",
    "        l.append(nparr[::,i])\n",
    "    return l\n",
    "    \n",
    "    \n",
    "x=np.random.randint(1,10,(5,4))\n",
    "print(x)\n",
    "print()\n",
    "print(func2(x))"
   ]
  },
  {
   "cell_type": "code",
   "execution_count": 41,
   "metadata": {},
   "outputs": [
    {
     "name": "stdout",
     "output_type": "stream",
     "text": [
      "[[7 5 5 4]\n",
      " [4 2 1 9]\n",
      " [3 7 3 8]\n",
      " [7 2 3 7]\n",
      " [1 3 5 3]]\n",
      "\n",
      "[array([7, 5, 5, 4]), array([4, 2, 1, 9]), array([3, 7, 3, 8]), array([7, 2, 3, 7]), array([1, 3, 5, 3])]\n"
     ]
    }
   ],
   "source": [
    "def func3(nparr):\n",
    "    l=[]\n",
    "    for i in range(5):\n",
    "        l.append(nparr[i,::])\n",
    "    return l\n",
    "    \n",
    "    \n",
    "x=np.random.randint(1,10,(5,4))\n",
    "print(x)\n",
    "print()\n",
    "print(func3(x))"
   ]
  }
 ],
 "metadata": {
  "kernelspec": {
   "display_name": "Python 3",
   "language": "python",
   "name": "python3"
  },
  "language_info": {
   "codemirror_mode": {
    "name": "ipython",
    "version": 3
   },
   "file_extension": ".py",
   "mimetype": "text/x-python",
   "name": "python",
   "nbconvert_exporter": "python",
   "pygments_lexer": "ipython3",
   "version": "3.7.3"
  }
 },
 "nbformat": 4,
 "nbformat_minor": 2
}
